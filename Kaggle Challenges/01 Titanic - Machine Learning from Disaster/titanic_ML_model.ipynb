{
 "cells": [
  {
   "cell_type": "markdown",
   "metadata": {},
   "source": [
    "# Titanic - Machine Learning from Disaster"
   ]
  },
  {
   "cell_type": "markdown",
   "metadata": {},
   "source": [
    "### Objective\n",
    "Create a model that predicts which passengers survived the Titanic shipwreck."
   ]
  },
  {
   "cell_type": "markdown",
   "metadata": {},
   "source": [
    "### Data\n",
    "The *train.csv* dataset will be used to train the machine learning models, whereas the *test.csv* dataset will be used to see how well the models perform on unseen data.\n",
    "\n",
    "**DATA DICTIONARY**\n",
    "\n",
    "|Variable|Definition|Key or Observation|\n",
    "|:------:|:--------:|----------------|\n",
    "|PassengerId|Passager identification||\n",
    "|Survived|Survival|0 = No, 1 = Yes|\n",
    "|Pclass|Ticket class|1 = 1st/Upper, 2 = 2nd/Middle, 3 = 3rd/Lower|\n",
    "|Name|Passager name||\n",
    "|Sex|Sex|male or female|\n",
    "|Age|Age in years|Age is fractional if less than 1. If the age is estimated, is it in the form of xx.5|\n",
    "|SibSp|# of siblings / spouses aboard the Titanic|Sibling = brother, sister, stepbrother, stepsister <br> Spouse = husband, wife (mistresses and fiancés were ignored)|\n",
    "|Parch|# of parents / children aboard the Titanic|Parent = mother, father <br> Child = daughter, son, stepdaughter, stepson <br> Some children travelled only with a nanny, therefore parch=0 for them.|\n",
    "|Ticket|Ticket number||\n",
    "|Fare|Passenger fare||\n",
    "|Cabin|Cabin number||\n",
    "|Embarked|Port of Embarkation|C = Cherbourg, Q = Queenstown, S = Southampton|"
   ]
  },
  {
   "cell_type": "markdown",
   "metadata": {},
   "source": [
    "### 1. Setting the machine enviroment\n"
   ]
  },
  {
   "cell_type": "markdown",
   "metadata": {},
   "source": [
    "#### 1.1 Importing packages"
   ]
  },
  {
   "cell_type": "code",
   "execution_count": 3,
   "metadata": {},
   "outputs": [],
   "source": [
    "import pandas # for data manipulation and analysis\n",
    "import numpy # for numeric, matrix, array, logical operations\n",
    "import sklearn.ensemble # for random florest model\n",
    "import sklearn.preprocessing # for data transformation\n",
    "import seaborn # for data visualization"
   ]
  },
  {
   "cell_type": "markdown",
   "metadata": {},
   "source": [
    "#### 1.2 Importing datasets"
   ]
  },
  {
   "cell_type": "code",
   "execution_count": 4,
   "metadata": {},
   "outputs": [],
   "source": [
    "train = pandas.read_csv('train.csv', sep=',')\n",
    "test = pandas.read_csv('test.csv', sep=',')"
   ]
  },
  {
   "cell_type": "markdown",
   "metadata": {},
   "source": [
    "### 2. Analysing raw data"
   ]
  },
  {
   "cell_type": "markdown",
   "metadata": {},
   "source": [
    "#### 2.1 Data structure "
   ]
  },
  {
   "cell_type": "code",
   "execution_count": 5,
   "metadata": {},
   "outputs": [
    {
     "data": {
      "text/html": [
       "<div>\n",
       "<style scoped>\n",
       "    .dataframe tbody tr th:only-of-type {\n",
       "        vertical-align: middle;\n",
       "    }\n",
       "\n",
       "    .dataframe tbody tr th {\n",
       "        vertical-align: top;\n",
       "    }\n",
       "\n",
       "    .dataframe thead th {\n",
       "        text-align: right;\n",
       "    }\n",
       "</style>\n",
       "<table border=\"1\" class=\"dataframe\">\n",
       "  <thead>\n",
       "    <tr style=\"text-align: right;\">\n",
       "      <th></th>\n",
       "      <th>PassengerId</th>\n",
       "      <th>Survived</th>\n",
       "      <th>Pclass</th>\n",
       "      <th>Name</th>\n",
       "      <th>Sex</th>\n",
       "      <th>Age</th>\n",
       "      <th>SibSp</th>\n",
       "      <th>Parch</th>\n",
       "      <th>Ticket</th>\n",
       "      <th>Fare</th>\n",
       "      <th>Cabin</th>\n",
       "      <th>Embarked</th>\n",
       "    </tr>\n",
       "  </thead>\n",
       "  <tbody>\n",
       "    <tr>\n",
       "      <th>0</th>\n",
       "      <td>1</td>\n",
       "      <td>0</td>\n",
       "      <td>3</td>\n",
       "      <td>Braund, Mr. Owen Harris</td>\n",
       "      <td>male</td>\n",
       "      <td>22.0</td>\n",
       "      <td>1</td>\n",
       "      <td>0</td>\n",
       "      <td>A/5 21171</td>\n",
       "      <td>7.2500</td>\n",
       "      <td>NaN</td>\n",
       "      <td>S</td>\n",
       "    </tr>\n",
       "    <tr>\n",
       "      <th>1</th>\n",
       "      <td>2</td>\n",
       "      <td>1</td>\n",
       "      <td>1</td>\n",
       "      <td>Cumings, Mrs. John Bradley (Florence Briggs Th...</td>\n",
       "      <td>female</td>\n",
       "      <td>38.0</td>\n",
       "      <td>1</td>\n",
       "      <td>0</td>\n",
       "      <td>PC 17599</td>\n",
       "      <td>71.2833</td>\n",
       "      <td>C85</td>\n",
       "      <td>C</td>\n",
       "    </tr>\n",
       "    <tr>\n",
       "      <th>2</th>\n",
       "      <td>3</td>\n",
       "      <td>1</td>\n",
       "      <td>3</td>\n",
       "      <td>Heikkinen, Miss. Laina</td>\n",
       "      <td>female</td>\n",
       "      <td>26.0</td>\n",
       "      <td>0</td>\n",
       "      <td>0</td>\n",
       "      <td>STON/O2. 3101282</td>\n",
       "      <td>7.9250</td>\n",
       "      <td>NaN</td>\n",
       "      <td>S</td>\n",
       "    </tr>\n",
       "    <tr>\n",
       "      <th>3</th>\n",
       "      <td>4</td>\n",
       "      <td>1</td>\n",
       "      <td>1</td>\n",
       "      <td>Futrelle, Mrs. Jacques Heath (Lily May Peel)</td>\n",
       "      <td>female</td>\n",
       "      <td>35.0</td>\n",
       "      <td>1</td>\n",
       "      <td>0</td>\n",
       "      <td>113803</td>\n",
       "      <td>53.1000</td>\n",
       "      <td>C123</td>\n",
       "      <td>S</td>\n",
       "    </tr>\n",
       "    <tr>\n",
       "      <th>4</th>\n",
       "      <td>5</td>\n",
       "      <td>0</td>\n",
       "      <td>3</td>\n",
       "      <td>Allen, Mr. William Henry</td>\n",
       "      <td>male</td>\n",
       "      <td>35.0</td>\n",
       "      <td>0</td>\n",
       "      <td>0</td>\n",
       "      <td>373450</td>\n",
       "      <td>8.0500</td>\n",
       "      <td>NaN</td>\n",
       "      <td>S</td>\n",
       "    </tr>\n",
       "    <tr>\n",
       "      <th>5</th>\n",
       "      <td>6</td>\n",
       "      <td>0</td>\n",
       "      <td>3</td>\n",
       "      <td>Moran, Mr. James</td>\n",
       "      <td>male</td>\n",
       "      <td>NaN</td>\n",
       "      <td>0</td>\n",
       "      <td>0</td>\n",
       "      <td>330877</td>\n",
       "      <td>8.4583</td>\n",
       "      <td>NaN</td>\n",
       "      <td>Q</td>\n",
       "    </tr>\n",
       "    <tr>\n",
       "      <th>6</th>\n",
       "      <td>7</td>\n",
       "      <td>0</td>\n",
       "      <td>1</td>\n",
       "      <td>McCarthy, Mr. Timothy J</td>\n",
       "      <td>male</td>\n",
       "      <td>54.0</td>\n",
       "      <td>0</td>\n",
       "      <td>0</td>\n",
       "      <td>17463</td>\n",
       "      <td>51.8625</td>\n",
       "      <td>E46</td>\n",
       "      <td>S</td>\n",
       "    </tr>\n",
       "    <tr>\n",
       "      <th>7</th>\n",
       "      <td>8</td>\n",
       "      <td>0</td>\n",
       "      <td>3</td>\n",
       "      <td>Palsson, Master. Gosta Leonard</td>\n",
       "      <td>male</td>\n",
       "      <td>2.0</td>\n",
       "      <td>3</td>\n",
       "      <td>1</td>\n",
       "      <td>349909</td>\n",
       "      <td>21.0750</td>\n",
       "      <td>NaN</td>\n",
       "      <td>S</td>\n",
       "    </tr>\n",
       "    <tr>\n",
       "      <th>8</th>\n",
       "      <td>9</td>\n",
       "      <td>1</td>\n",
       "      <td>3</td>\n",
       "      <td>Johnson, Mrs. Oscar W (Elisabeth Vilhelmina Berg)</td>\n",
       "      <td>female</td>\n",
       "      <td>27.0</td>\n",
       "      <td>0</td>\n",
       "      <td>2</td>\n",
       "      <td>347742</td>\n",
       "      <td>11.1333</td>\n",
       "      <td>NaN</td>\n",
       "      <td>S</td>\n",
       "    </tr>\n",
       "    <tr>\n",
       "      <th>9</th>\n",
       "      <td>10</td>\n",
       "      <td>1</td>\n",
       "      <td>2</td>\n",
       "      <td>Nasser, Mrs. Nicholas (Adele Achem)</td>\n",
       "      <td>female</td>\n",
       "      <td>14.0</td>\n",
       "      <td>1</td>\n",
       "      <td>0</td>\n",
       "      <td>237736</td>\n",
       "      <td>30.0708</td>\n",
       "      <td>NaN</td>\n",
       "      <td>C</td>\n",
       "    </tr>\n",
       "  </tbody>\n",
       "</table>\n",
       "</div>"
      ],
      "text/plain": [
       "   PassengerId  Survived  Pclass  \\\n",
       "0            1         0       3   \n",
       "1            2         1       1   \n",
       "2            3         1       3   \n",
       "3            4         1       1   \n",
       "4            5         0       3   \n",
       "5            6         0       3   \n",
       "6            7         0       1   \n",
       "7            8         0       3   \n",
       "8            9         1       3   \n",
       "9           10         1       2   \n",
       "\n",
       "                                                Name     Sex   Age  SibSp  \\\n",
       "0                            Braund, Mr. Owen Harris    male  22.0      1   \n",
       "1  Cumings, Mrs. John Bradley (Florence Briggs Th...  female  38.0      1   \n",
       "2                             Heikkinen, Miss. Laina  female  26.0      0   \n",
       "3       Futrelle, Mrs. Jacques Heath (Lily May Peel)  female  35.0      1   \n",
       "4                           Allen, Mr. William Henry    male  35.0      0   \n",
       "5                                   Moran, Mr. James    male   NaN      0   \n",
       "6                            McCarthy, Mr. Timothy J    male  54.0      0   \n",
       "7                     Palsson, Master. Gosta Leonard    male   2.0      3   \n",
       "8  Johnson, Mrs. Oscar W (Elisabeth Vilhelmina Berg)  female  27.0      0   \n",
       "9                Nasser, Mrs. Nicholas (Adele Achem)  female  14.0      1   \n",
       "\n",
       "   Parch            Ticket     Fare Cabin Embarked  \n",
       "0      0         A/5 21171   7.2500   NaN        S  \n",
       "1      0          PC 17599  71.2833   C85        C  \n",
       "2      0  STON/O2. 3101282   7.9250   NaN        S  \n",
       "3      0            113803  53.1000  C123        S  \n",
       "4      0            373450   8.0500   NaN        S  \n",
       "5      0            330877   8.4583   NaN        Q  \n",
       "6      0             17463  51.8625   E46        S  \n",
       "7      1            349909  21.0750   NaN        S  \n",
       "8      2            347742  11.1333   NaN        S  \n",
       "9      0            237736  30.0708   NaN        C  "
      ]
     },
     "execution_count": 5,
     "metadata": {},
     "output_type": "execute_result"
    }
   ],
   "source": [
    "# seeing sample train data\n",
    "train.head(10)"
   ]
  },
  {
   "cell_type": "code",
   "execution_count": 6,
   "metadata": {},
   "outputs": [
    {
     "name": "stdout",
     "output_type": "stream",
     "text": [
      "<class 'pandas.core.frame.DataFrame'>\n",
      "RangeIndex: 891 entries, 0 to 890\n",
      "Data columns (total 12 columns):\n",
      " #   Column       Non-Null Count  Dtype  \n",
      "---  ------       --------------  -----  \n",
      " 0   PassengerId  891 non-null    int64  \n",
      " 1   Survived     891 non-null    int64  \n",
      " 2   Pclass       891 non-null    int64  \n",
      " 3   Name         891 non-null    object \n",
      " 4   Sex          891 non-null    object \n",
      " 5   Age          714 non-null    float64\n",
      " 6   SibSp        891 non-null    int64  \n",
      " 7   Parch        891 non-null    int64  \n",
      " 8   Ticket       891 non-null    object \n",
      " 9   Fare         891 non-null    float64\n",
      " 10  Cabin        204 non-null    object \n",
      " 11  Embarked     889 non-null    object \n",
      "dtypes: float64(2), int64(5), object(5)\n",
      "memory usage: 83.7+ KB\n"
     ]
    }
   ],
   "source": [
    "train.info()"
   ]
  },
  {
   "cell_type": "markdown",
   "metadata": {},
   "source": [
    "#### 2.2 Basic stats"
   ]
  },
  {
   "cell_type": "markdown",
   "metadata": {},
   "source": [
    "**SURVIVORS x VICTIMS**"
   ]
  },
  {
   "cell_type": "code",
   "execution_count": 7,
   "metadata": {},
   "outputs": [
    {
     "name": "stdout",
     "output_type": "stream",
     "text": [
      "# of survivors: 342 (38.38%)\n",
      "# of victims: 549 (61.62%)\n"
     ]
    }
   ],
   "source": [
    "# calculating totals of each group\n",
    "total = train['Survived'].size\n",
    "survivors = train['Survived'].sum()\n",
    "victims = total - survivors\n",
    "\n",
    "# % of each group\n",
    "survivors_percentage = str(round(survivors/total*100,2)) + '%'\n",
    "victims_percentage = str(round(victims/total*100,2)) + '%'\n",
    "\n",
    "print('# of survivors: ',survivors,' (',survivors_percentage,')', sep='')\n",
    "print('# of victims: ',victims,' (',victims_percentage,')', sep='')"
   ]
  },
  {
   "cell_type": "markdown",
   "metadata": {},
   "source": [
    "**PASSENGER BY TICKET CLASS**"
   ]
  },
  {
   "cell_type": "code",
   "execution_count": 8,
   "metadata": {},
   "outputs": [
    {
     "data": {
      "text/html": [
       "<div>\n",
       "<style scoped>\n",
       "    .dataframe tbody tr th:only-of-type {\n",
       "        vertical-align: middle;\n",
       "    }\n",
       "\n",
       "    .dataframe tbody tr th {\n",
       "        vertical-align: top;\n",
       "    }\n",
       "\n",
       "    .dataframe thead th {\n",
       "        text-align: right;\n",
       "    }\n",
       "</style>\n",
       "<table border=\"1\" class=\"dataframe\">\n",
       "  <thead>\n",
       "    <tr style=\"text-align: right;\">\n",
       "      <th></th>\n",
       "      <th>Ticket</th>\n",
       "      <th>Survivors</th>\n",
       "      <th>Victims</th>\n",
       "      <th>Total</th>\n",
       "      <th>Percentage of Survivors</th>\n",
       "    </tr>\n",
       "  </thead>\n",
       "  <tbody>\n",
       "    <tr>\n",
       "      <th>0</th>\n",
       "      <td>Class 1</td>\n",
       "      <td>136</td>\n",
       "      <td>80</td>\n",
       "      <td>216</td>\n",
       "      <td>62.96%</td>\n",
       "    </tr>\n",
       "    <tr>\n",
       "      <th>1</th>\n",
       "      <td>Class 2</td>\n",
       "      <td>87</td>\n",
       "      <td>97</td>\n",
       "      <td>184</td>\n",
       "      <td>47.28%</td>\n",
       "    </tr>\n",
       "    <tr>\n",
       "      <th>2</th>\n",
       "      <td>Class 3</td>\n",
       "      <td>119</td>\n",
       "      <td>372</td>\n",
       "      <td>491</td>\n",
       "      <td>24.24%</td>\n",
       "    </tr>\n",
       "  </tbody>\n",
       "</table>\n",
       "</div>"
      ],
      "text/plain": [
       "    Ticket  Survivors  Victims  Total Percentage of Survivors\n",
       "0  Class 1        136       80    216                  62.96%\n",
       "1  Class 2         87       97    184                  47.28%\n",
       "2  Class 3        119      372    491                  24.24%"
      ]
     },
     "execution_count": 8,
     "metadata": {},
     "output_type": "execute_result"
    }
   ],
   "source": [
    "# get unique values and counts of each ticket class\n",
    "unique_pclass, count_pclass = numpy.unique(train['Pclass'], return_counts=True)\n",
    "\n",
    "# put unique values and counts in a single array\n",
    "pclass_unique_count = numpy.asarray((unique_pclass, count_pclass)).T\n",
    "\n",
    "# retrieve counts for each class\n",
    "pclass_1 = pclass_unique_count[0][1]\n",
    "pclass_2 = pclass_unique_count[1][1]\n",
    "pclass_3 = pclass_unique_count[2][1]\n",
    "\n",
    "# how many survived in each class\n",
    "survivors_by_class = train.groupby('Pclass')['Survived'].sum()\n",
    "pclass_1_survivors = survivors_by_class[1]\n",
    "pclass_2_survivors = survivors_by_class[2]\n",
    "pclass_3_survivors = survivors_by_class[3]\n",
    "\n",
    "# how many victims in each class\n",
    "pclass_1_victims = pclass_1 - pclass_1_survivors\n",
    "pclass_2_victims = pclass_2 - pclass_2_survivors\n",
    "pclass_3_victims = pclass_3 - pclass_3_survivors\n",
    "\n",
    "# % of survivors per class\n",
    "pclass_1_survivors_percentage = str(round(pclass_1_survivors/pclass_1*100,2)) + '%'\n",
    "pclass_2_survivors_percentage = str(round(pclass_2_survivors/pclass_2*100,2)) + '%'\n",
    "pclass_3_survivors_percentage = str(round(pclass_3_survivors/pclass_3*100,2)) + '%'\n",
    "\n",
    "# table of results\n",
    "pandas.DataFrame({'Ticket': ['Class 1','Class 2','Class 3'],\n",
    "                  'Survivors': [pclass_1_survivors, pclass_2_survivors, pclass_3_survivors],\n",
    "                  'Victims': [pclass_1_victims, pclass_2_victims, pclass_3_victims],\n",
    "                  'Total': [pclass_1, pclass_2, pclass_3],\n",
    "                  \"Percentage of Survivors\": [pclass_1_survivors_percentage, pclass_2_survivors_percentage, pclass_3_survivors_percentage]})"
   ]
  },
  {
   "cell_type": "markdown",
   "metadata": {},
   "source": [
    "**PASSENGER BY SEX**"
   ]
  },
  {
   "cell_type": "code",
   "execution_count": 9,
   "metadata": {},
   "outputs": [
    {
     "data": {
      "text/html": [
       "<div>\n",
       "<style scoped>\n",
       "    .dataframe tbody tr th:only-of-type {\n",
       "        vertical-align: middle;\n",
       "    }\n",
       "\n",
       "    .dataframe tbody tr th {\n",
       "        vertical-align: top;\n",
       "    }\n",
       "\n",
       "    .dataframe thead th {\n",
       "        text-align: right;\n",
       "    }\n",
       "</style>\n",
       "<table border=\"1\" class=\"dataframe\">\n",
       "  <thead>\n",
       "    <tr style=\"text-align: right;\">\n",
       "      <th></th>\n",
       "      <th>Sex</th>\n",
       "      <th>Survivors</th>\n",
       "      <th>Victims</th>\n",
       "      <th>Total</th>\n",
       "      <th>Percentage of Survivors</th>\n",
       "    </tr>\n",
       "  </thead>\n",
       "  <tbody>\n",
       "    <tr>\n",
       "      <th>0</th>\n",
       "      <td>Female</td>\n",
       "      <td>233</td>\n",
       "      <td>81</td>\n",
       "      <td>314</td>\n",
       "      <td>74.2%</td>\n",
       "    </tr>\n",
       "    <tr>\n",
       "      <th>1</th>\n",
       "      <td>Male</td>\n",
       "      <td>109</td>\n",
       "      <td>468</td>\n",
       "      <td>577</td>\n",
       "      <td>18.89%</td>\n",
       "    </tr>\n",
       "  </tbody>\n",
       "</table>\n",
       "</div>"
      ],
      "text/plain": [
       "      Sex  Survivors  Victims  Total Percentage of Survivors\n",
       "0  Female        233       81    314                   74.2%\n",
       "1    Male        109      468    577                  18.89%"
      ]
     },
     "execution_count": 9,
     "metadata": {},
     "output_type": "execute_result"
    }
   ],
   "source": [
    "# get unique values and counts of each sex\n",
    "unique_sex, count_sex = numpy.unique(train['Sex'], return_counts=True)\n",
    "\n",
    "# put unique values and counts in a single array\n",
    "sex_unique_count = numpy.asarray((unique_sex, count_sex)).T\n",
    "\n",
    "# retrieve counts for each class\n",
    "sex_female = sex_unique_count[0][1]\n",
    "sex_male = sex_unique_count[1][1]\n",
    "\n",
    "# how many of each sex survived \n",
    "survivors_by_sex = train.groupby('Sex')['Survived'].sum()\n",
    "sex_female_survivors = survivors_by_sex[0]\n",
    "sex_male_survivors = survivors_by_sex[1]\n",
    "\n",
    "# how many victims in each sex\n",
    "sex_female_victims = sex_female - sex_female_survivors\n",
    "sex_male_victims = sex_male - sex_male_survivors\n",
    "\n",
    "# % of survivors per sex\n",
    "sex_female_survivors_percentage = str(round(sex_female_survivors/sex_female*100,2)) + '%'\n",
    "sex_male_survivors_percentage = str(round(sex_male_survivors/sex_male*100,2)) + '%'\n",
    "\n",
    "# table of results\n",
    "pandas.DataFrame({'Sex': ['Female','Male'],\n",
    "                  'Survivors': [sex_female_survivors, sex_male_survivors],\n",
    "                  'Victims': [sex_female_victims, sex_male_victims],\n",
    "                  'Total': [sex_female, sex_male],\n",
    "                  \"Percentage of Survivors\": [sex_female_survivors_percentage, sex_male_survivors_percentage]})"
   ]
  },
  {
   "cell_type": "markdown",
   "metadata": {},
   "source": [
    "**PASSENGER BY AGE**"
   ]
  },
  {
   "cell_type": "code",
   "execution_count": 10,
   "metadata": {},
   "outputs": [
    {
     "name": "stdout",
     "output_type": "stream",
     "text": [
      "It doesn't include the 177 passengers who age is unknown.\n"
     ]
    }
   ],
   "source": [
    "print(\"It doesn't include the\", train['Age'].isna().sum(), 'passengers who age is unknown.')"
   ]
  },
  {
   "cell_type": "code",
   "execution_count": 11,
   "metadata": {},
   "outputs": [
    {
     "data": {
      "text/html": [
       "<div>\n",
       "<style scoped>\n",
       "    .dataframe tbody tr th:only-of-type {\n",
       "        vertical-align: middle;\n",
       "    }\n",
       "\n",
       "    .dataframe tbody tr th {\n",
       "        vertical-align: top;\n",
       "    }\n",
       "\n",
       "    .dataframe thead th {\n",
       "        text-align: right;\n",
       "    }\n",
       "</style>\n",
       "<table border=\"1\" class=\"dataframe\">\n",
       "  <thead>\n",
       "    <tr style=\"text-align: right;\">\n",
       "      <th></th>\n",
       "      <th>Stats</th>\n",
       "      <th>Survivors</th>\n",
       "      <th>Victims</th>\n",
       "      <th>Passengers</th>\n",
       "    </tr>\n",
       "  </thead>\n",
       "  <tbody>\n",
       "    <tr>\n",
       "      <th>0</th>\n",
       "      <td>count</td>\n",
       "      <td>290.000000</td>\n",
       "      <td>424.000000</td>\n",
       "      <td>714.000000</td>\n",
       "    </tr>\n",
       "    <tr>\n",
       "      <th>1</th>\n",
       "      <td>mean</td>\n",
       "      <td>28.343690</td>\n",
       "      <td>30.626179</td>\n",
       "      <td>29.699118</td>\n",
       "    </tr>\n",
       "    <tr>\n",
       "      <th>2</th>\n",
       "      <td>std</td>\n",
       "      <td>14.950952</td>\n",
       "      <td>14.172110</td>\n",
       "      <td>14.526497</td>\n",
       "    </tr>\n",
       "    <tr>\n",
       "      <th>3</th>\n",
       "      <td>min</td>\n",
       "      <td>0.420000</td>\n",
       "      <td>1.000000</td>\n",
       "      <td>0.420000</td>\n",
       "    </tr>\n",
       "    <tr>\n",
       "      <th>4</th>\n",
       "      <td>25%</td>\n",
       "      <td>19.000000</td>\n",
       "      <td>21.000000</td>\n",
       "      <td>20.125000</td>\n",
       "    </tr>\n",
       "    <tr>\n",
       "      <th>5</th>\n",
       "      <td>50%</td>\n",
       "      <td>28.000000</td>\n",
       "      <td>28.000000</td>\n",
       "      <td>28.000000</td>\n",
       "    </tr>\n",
       "    <tr>\n",
       "      <th>6</th>\n",
       "      <td>75%</td>\n",
       "      <td>36.000000</td>\n",
       "      <td>39.000000</td>\n",
       "      <td>38.000000</td>\n",
       "    </tr>\n",
       "    <tr>\n",
       "      <th>7</th>\n",
       "      <td>max</td>\n",
       "      <td>80.000000</td>\n",
       "      <td>74.000000</td>\n",
       "      <td>80.000000</td>\n",
       "    </tr>\n",
       "  </tbody>\n",
       "</table>\n",
       "</div>"
      ],
      "text/plain": [
       "   Stats   Survivors     Victims  Passengers\n",
       "0  count  290.000000  424.000000  714.000000\n",
       "1   mean   28.343690   30.626179   29.699118\n",
       "2    std   14.950952   14.172110   14.526497\n",
       "3    min    0.420000    1.000000    0.420000\n",
       "4    25%   19.000000   21.000000   20.125000\n",
       "5    50%   28.000000   28.000000   28.000000\n",
       "6    75%   36.000000   39.000000   38.000000\n",
       "7    max   80.000000   74.000000   80.000000"
      ]
     },
     "execution_count": 11,
     "metadata": {},
     "output_type": "execute_result"
    }
   ],
   "source": [
    "# Extracting statistics from describe and transforming then into dataframes (reset_index)\n",
    "passengers_by_age = train.describe()['Age'].reset_index()\n",
    "victims_by_age = train.groupby('Survived').describe()['Age'].loc[0].reset_index()\n",
    "survivors_by_age = train.groupby('Survived').describe()['Age'].loc[1].reset_index()\n",
    "\n",
    "# Merge all stats into a single table\n",
    "survivors_victims_by_age = pandas.merge(survivors_by_age, victims_by_age, on='index')\n",
    "survivors_victims_passengers_by_age = pandas.merge(survivors_victims_by_age, passengers_by_age, on='index')\n",
    "survivors_victims_passengers_by_age.rename(columns={'index': 'Stats', 1: 'Survivors', 0: 'Victims', 'Age': 'Passengers'})"
   ]
  },
  {
   "cell_type": "markdown",
   "metadata": {},
   "source": [
    "**SIBLING / SPOUSE BY PASSENGER**"
   ]
  },
  {
   "cell_type": "code",
   "execution_count": 12,
   "metadata": {},
   "outputs": [
    {
     "data": {
      "text/html": [
       "<div>\n",
       "<style scoped>\n",
       "    .dataframe tbody tr th:only-of-type {\n",
       "        vertical-align: middle;\n",
       "    }\n",
       "\n",
       "    .dataframe tbody tr th {\n",
       "        vertical-align: top;\n",
       "    }\n",
       "\n",
       "    .dataframe thead th {\n",
       "        text-align: right;\n",
       "    }\n",
       "</style>\n",
       "<table border=\"1\" class=\"dataframe\">\n",
       "  <thead>\n",
       "    <tr style=\"text-align: right;\">\n",
       "      <th></th>\n",
       "      <th>Stats</th>\n",
       "      <th>Survivors</th>\n",
       "      <th>Victims</th>\n",
       "      <th>Passengers</th>\n",
       "    </tr>\n",
       "  </thead>\n",
       "  <tbody>\n",
       "    <tr>\n",
       "      <th>0</th>\n",
       "      <td>count</td>\n",
       "      <td>342.000000</td>\n",
       "      <td>549.000000</td>\n",
       "      <td>891.000000</td>\n",
       "    </tr>\n",
       "    <tr>\n",
       "      <th>1</th>\n",
       "      <td>mean</td>\n",
       "      <td>0.473684</td>\n",
       "      <td>0.553734</td>\n",
       "      <td>0.523008</td>\n",
       "    </tr>\n",
       "    <tr>\n",
       "      <th>2</th>\n",
       "      <td>std</td>\n",
       "      <td>0.708688</td>\n",
       "      <td>1.288399</td>\n",
       "      <td>1.102743</td>\n",
       "    </tr>\n",
       "    <tr>\n",
       "      <th>3</th>\n",
       "      <td>min</td>\n",
       "      <td>0.000000</td>\n",
       "      <td>0.000000</td>\n",
       "      <td>0.000000</td>\n",
       "    </tr>\n",
       "    <tr>\n",
       "      <th>4</th>\n",
       "      <td>25%</td>\n",
       "      <td>0.000000</td>\n",
       "      <td>0.000000</td>\n",
       "      <td>0.000000</td>\n",
       "    </tr>\n",
       "    <tr>\n",
       "      <th>5</th>\n",
       "      <td>50%</td>\n",
       "      <td>0.000000</td>\n",
       "      <td>0.000000</td>\n",
       "      <td>0.000000</td>\n",
       "    </tr>\n",
       "    <tr>\n",
       "      <th>6</th>\n",
       "      <td>75%</td>\n",
       "      <td>1.000000</td>\n",
       "      <td>1.000000</td>\n",
       "      <td>1.000000</td>\n",
       "    </tr>\n",
       "    <tr>\n",
       "      <th>7</th>\n",
       "      <td>max</td>\n",
       "      <td>4.000000</td>\n",
       "      <td>8.000000</td>\n",
       "      <td>8.000000</td>\n",
       "    </tr>\n",
       "  </tbody>\n",
       "</table>\n",
       "</div>"
      ],
      "text/plain": [
       "   Stats   Survivors     Victims  Passengers\n",
       "0  count  342.000000  549.000000  891.000000\n",
       "1   mean    0.473684    0.553734    0.523008\n",
       "2    std    0.708688    1.288399    1.102743\n",
       "3    min    0.000000    0.000000    0.000000\n",
       "4    25%    0.000000    0.000000    0.000000\n",
       "5    50%    0.000000    0.000000    0.000000\n",
       "6    75%    1.000000    1.000000    1.000000\n",
       "7    max    4.000000    8.000000    8.000000"
      ]
     },
     "execution_count": 12,
     "metadata": {},
     "output_type": "execute_result"
    }
   ],
   "source": [
    "# Extracting statistics from describe and transforming then into dataframes (reset_index)\n",
    "sibling_spouse_by_passenger = train.describe()['SibSp'].reset_index()\n",
    "sibling_spouse_by_victim = train.groupby('Survived').describe()['SibSp'].loc[0].reset_index()\n",
    "sibling_spouse_by_survivor = train.groupby('Survived').describe()['SibSp'].loc[1].reset_index()\n",
    "\n",
    "# Merge all stats into a single table\n",
    "sibling_spouse_by_survivor_victim = pandas.merge(sibling_spouse_by_survivor, sibling_spouse_by_victim, on='index')\n",
    "sibling_spouse_by_survivors_victims_passengers = pandas.merge(sibling_spouse_by_survivor_victim, sibling_spouse_by_passenger, on='index')\n",
    "sibling_spouse_by_survivors_victims_passengers.rename(columns={'index': 'Stats', 1: 'Survivors', 0: 'Victims', 'SibSp': 'Passengers'})"
   ]
  },
  {
   "cell_type": "markdown",
   "metadata": {},
   "source": [
    "**PARENT / CHILD BY PASSENGER**"
   ]
  },
  {
   "cell_type": "code",
   "execution_count": 13,
   "metadata": {},
   "outputs": [
    {
     "data": {
      "text/html": [
       "<div>\n",
       "<style scoped>\n",
       "    .dataframe tbody tr th:only-of-type {\n",
       "        vertical-align: middle;\n",
       "    }\n",
       "\n",
       "    .dataframe tbody tr th {\n",
       "        vertical-align: top;\n",
       "    }\n",
       "\n",
       "    .dataframe thead th {\n",
       "        text-align: right;\n",
       "    }\n",
       "</style>\n",
       "<table border=\"1\" class=\"dataframe\">\n",
       "  <thead>\n",
       "    <tr style=\"text-align: right;\">\n",
       "      <th></th>\n",
       "      <th>Stats</th>\n",
       "      <th>Survivors</th>\n",
       "      <th>Victims</th>\n",
       "      <th>Passengers</th>\n",
       "    </tr>\n",
       "  </thead>\n",
       "  <tbody>\n",
       "    <tr>\n",
       "      <th>0</th>\n",
       "      <td>count</td>\n",
       "      <td>342.000000</td>\n",
       "      <td>549.000000</td>\n",
       "      <td>891.000000</td>\n",
       "    </tr>\n",
       "    <tr>\n",
       "      <th>1</th>\n",
       "      <td>mean</td>\n",
       "      <td>0.464912</td>\n",
       "      <td>0.329690</td>\n",
       "      <td>0.381594</td>\n",
       "    </tr>\n",
       "    <tr>\n",
       "      <th>2</th>\n",
       "      <td>std</td>\n",
       "      <td>0.771712</td>\n",
       "      <td>0.823166</td>\n",
       "      <td>0.806057</td>\n",
       "    </tr>\n",
       "    <tr>\n",
       "      <th>3</th>\n",
       "      <td>min</td>\n",
       "      <td>0.000000</td>\n",
       "      <td>0.000000</td>\n",
       "      <td>0.000000</td>\n",
       "    </tr>\n",
       "    <tr>\n",
       "      <th>4</th>\n",
       "      <td>25%</td>\n",
       "      <td>0.000000</td>\n",
       "      <td>0.000000</td>\n",
       "      <td>0.000000</td>\n",
       "    </tr>\n",
       "    <tr>\n",
       "      <th>5</th>\n",
       "      <td>50%</td>\n",
       "      <td>0.000000</td>\n",
       "      <td>0.000000</td>\n",
       "      <td>0.000000</td>\n",
       "    </tr>\n",
       "    <tr>\n",
       "      <th>6</th>\n",
       "      <td>75%</td>\n",
       "      <td>1.000000</td>\n",
       "      <td>0.000000</td>\n",
       "      <td>0.000000</td>\n",
       "    </tr>\n",
       "    <tr>\n",
       "      <th>7</th>\n",
       "      <td>max</td>\n",
       "      <td>5.000000</td>\n",
       "      <td>6.000000</td>\n",
       "      <td>6.000000</td>\n",
       "    </tr>\n",
       "  </tbody>\n",
       "</table>\n",
       "</div>"
      ],
      "text/plain": [
       "   Stats   Survivors     Victims  Passengers\n",
       "0  count  342.000000  549.000000  891.000000\n",
       "1   mean    0.464912    0.329690    0.381594\n",
       "2    std    0.771712    0.823166    0.806057\n",
       "3    min    0.000000    0.000000    0.000000\n",
       "4    25%    0.000000    0.000000    0.000000\n",
       "5    50%    0.000000    0.000000    0.000000\n",
       "6    75%    1.000000    0.000000    0.000000\n",
       "7    max    5.000000    6.000000    6.000000"
      ]
     },
     "execution_count": 13,
     "metadata": {},
     "output_type": "execute_result"
    }
   ],
   "source": [
    "# Extracting statistics from describe and transforming then into dataframes (reset_index)\n",
    "parent_child_by_passenger = train.describe()['Parch'].reset_index()\n",
    "parent_child_by_victim = train.groupby('Survived').describe()['Parch'].loc[0].reset_index()\n",
    "parent_child_by_survivor = train.groupby('Survived').describe()['Parch'].loc[1].reset_index()\n",
    "\n",
    "# Merge all stats into a single table\n",
    "parent_child_by_survivor_victim = pandas.merge(parent_child_by_survivor, parent_child_by_victim, on='index')\n",
    "parent_child_by_survivors_victims_passengers = pandas.merge(parent_child_by_survivor_victim, parent_child_by_passenger, on='index')\n",
    "parent_child_by_survivors_victims_passengers.rename(columns={'index': 'Stats', 1: 'Survivors', 0: 'Victims', 'Parch': 'Passengers'})"
   ]
  },
  {
   "cell_type": "markdown",
   "metadata": {},
   "source": [
    "**PASSENGER BY PORT OF EMBARKATION**"
   ]
  },
  {
   "cell_type": "code",
   "execution_count": 14,
   "metadata": {},
   "outputs": [
    {
     "data": {
      "text/html": [
       "<div>\n",
       "<style scoped>\n",
       "    .dataframe tbody tr th:only-of-type {\n",
       "        vertical-align: middle;\n",
       "    }\n",
       "\n",
       "    .dataframe tbody tr th {\n",
       "        vertical-align: top;\n",
       "    }\n",
       "\n",
       "    .dataframe thead th {\n",
       "        text-align: right;\n",
       "    }\n",
       "</style>\n",
       "<table border=\"1\" class=\"dataframe\">\n",
       "  <thead>\n",
       "    <tr style=\"text-align: right;\">\n",
       "      <th></th>\n",
       "      <th>Port</th>\n",
       "      <th>Survivors</th>\n",
       "      <th>Victims</th>\n",
       "      <th>Total</th>\n",
       "      <th>Percentage of Survivors</th>\n",
       "    </tr>\n",
       "  </thead>\n",
       "  <tbody>\n",
       "    <tr>\n",
       "      <th>0</th>\n",
       "      <td>Cherbourg</td>\n",
       "      <td>93</td>\n",
       "      <td>75</td>\n",
       "      <td>168</td>\n",
       "      <td>55.36%</td>\n",
       "    </tr>\n",
       "    <tr>\n",
       "      <th>1</th>\n",
       "      <td>Queenstown</td>\n",
       "      <td>30</td>\n",
       "      <td>47</td>\n",
       "      <td>77</td>\n",
       "      <td>38.96%</td>\n",
       "    </tr>\n",
       "    <tr>\n",
       "      <th>2</th>\n",
       "      <td>Southampton</td>\n",
       "      <td>217</td>\n",
       "      <td>427</td>\n",
       "      <td>644</td>\n",
       "      <td>33.7%</td>\n",
       "    </tr>\n",
       "  </tbody>\n",
       "</table>\n",
       "</div>"
      ],
      "text/plain": [
       "          Port  Survivors  Victims  Total Percentage of Survivors\n",
       "0    Cherbourg         93       75    168                  55.36%\n",
       "1   Queenstown         30       47     77                  38.96%\n",
       "2  Southampton        217      427    644                   33.7%"
      ]
     },
     "execution_count": 14,
     "metadata": {},
     "output_type": "execute_result"
    }
   ],
   "source": [
    "# get unique values and counts of each ticket class\n",
    "# it is necessary to convert train['Embarked'] to string due to the NA observations\n",
    "unique_embarked, count_embarked = numpy.unique(train['Embarked'].astype(str), return_counts=True)\n",
    "\n",
    "# put unique values and counts in a single array\n",
    "embarked_unique_count = numpy.asarray((unique_embarked, count_embarked)).T\n",
    "\n",
    "# retrieve counts for each class\n",
    "embarked_c = embarked_unique_count[0][1]\n",
    "embarked_q = embarked_unique_count[1][1]\n",
    "embarked_s = embarked_unique_count[2][1]\n",
    "\n",
    "# how many survived in each class\n",
    "survivors_by_port = train.groupby('Embarked')['Survived'].sum()\n",
    "embarked_c_survivors = survivors_by_port[0]\n",
    "embarked_q_survivors = survivors_by_port[1]\n",
    "embarked_s_survivors = survivors_by_port[2]\n",
    "\n",
    "# how many victims in each class\n",
    "embarked_c_victims = embarked_c - embarked_c_survivors\n",
    "embarked_q_victims = embarked_q - embarked_q_survivors\n",
    "embarked_s_victims = embarked_s - embarked_s_survivors\n",
    "\n",
    "# % of survivors per class\n",
    "embarked_c_survivors_percentage = str(round(embarked_c_survivors/embarked_c*100,2)) + '%'\n",
    "embarked_q_survivors_percentage = str(round(embarked_q_survivors/embarked_q*100,2)) + '%'\n",
    "embarked_s_survivors_percentage = str(round(embarked_s_survivors/embarked_s*100,2)) + '%'\n",
    "\n",
    "# table of results\n",
    "pandas.DataFrame({'Port': ['Cherbourg','Queenstown','Southampton'],\n",
    "                  'Survivors': [embarked_c_survivors, embarked_q_survivors, embarked_s_survivors],\n",
    "                  'Victims': [embarked_c_victims, embarked_q_victims, embarked_s_victims],\n",
    "                  'Total': [embarked_c, embarked_q, embarked_s],\n",
    "                  \"Percentage of Survivors\": [embarked_c_survivors_percentage, embarked_q_survivors_percentage, embarked_s_survivors_percentage]})"
   ]
  },
  {
   "cell_type": "markdown",
   "metadata": {},
   "source": [
    "### 3. Random Florest Model only with complete data"
   ]
  },
  {
   "cell_type": "markdown",
   "metadata": {},
   "source": [
    "Only the information which had 891 obseervations in the training dataset and had 418 in the test set was included.\n",
    "That means the model only considered:\n",
    "- ticket class (Pclass)\n",
    "- passenger sex (Sex) \n",
    "- number of siblings / spouses abroad (SibSp)\n",
    "- number of parents / children abroad (Parch)"
   ]
  },
  {
   "cell_type": "markdown",
   "metadata": {},
   "source": [
    "#### 3.1 Separating classification variables (target) from explaining variables (features)"
   ]
  },
  {
   "cell_type": "code",
   "execution_count": 15,
   "metadata": {},
   "outputs": [],
   "source": [
    "target = train['Survived'].values\n",
    "features = train[['Pclass', 'Sex', 'SibSp', 'Parch']]\n",
    "test_features = test[['Pclass', 'Sex', 'SibSp', 'Parch']]"
   ]
  },
  {
   "cell_type": "markdown",
   "metadata": {},
   "source": [
    "#### 3.2 Transforming non-numeric into numeric data"
   ]
  },
  {
   "cell_type": "markdown",
   "metadata": {},
   "source": [
    "Assign 0 = Female and 1 = Male"
   ]
  },
  {
   "cell_type": "code",
   "execution_count": 16,
   "metadata": {},
   "outputs": [
    {
     "name": "stderr",
     "output_type": "stream",
     "text": [
      "C:\\Users\\abner\\AppData\\Local\\Temp\\ipykernel_15432\\2052657507.py:5: SettingWithCopyWarning: \n",
      "A value is trying to be set on a copy of a slice from a DataFrame.\n",
      "Try using .loc[row_indexer,col_indexer] = value instead\n",
      "\n",
      "See the caveats in the documentation: https://pandas.pydata.org/pandas-docs/stable/user_guide/indexing.html#returning-a-view-versus-a-copy\n",
      "  features.loc[:, 'Sex'] = encoded_sex\n",
      "C:\\Users\\abner\\AppData\\Local\\Temp\\ipykernel_15432\\2052657507.py:5: DeprecationWarning: In a future version, `df.iloc[:, i] = newvals` will attempt to set the values inplace instead of always setting a new array. To retain the old behavior, use either `df[df.columns[i]] = newvals` or, if columns are non-unique, `df.isetitem(i, newvals)`\n",
      "  features.loc[:, 'Sex'] = encoded_sex\n",
      "C:\\Users\\abner\\AppData\\Local\\Temp\\ipykernel_15432\\2052657507.py:9: SettingWithCopyWarning: \n",
      "A value is trying to be set on a copy of a slice from a DataFrame.\n",
      "Try using .loc[row_indexer,col_indexer] = value instead\n",
      "\n",
      "See the caveats in the documentation: https://pandas.pydata.org/pandas-docs/stable/user_guide/indexing.html#returning-a-view-versus-a-copy\n",
      "  test_features.loc[:, 'Sex'] = encoded_sex_test\n",
      "C:\\Users\\abner\\AppData\\Local\\Temp\\ipykernel_15432\\2052657507.py:9: DeprecationWarning: In a future version, `df.iloc[:, i] = newvals` will attempt to set the values inplace instead of always setting a new array. To retain the old behavior, use either `df[df.columns[i]] = newvals` or, if columns are non-unique, `df.isetitem(i, newvals)`\n",
      "  test_features.loc[:, 'Sex'] = encoded_sex_test\n"
     ]
    }
   ],
   "source": [
    "# Training features:\n",
    "ordinal_encoder = sklearn.preprocessing.OrdinalEncoder()\n",
    "encoded_sex = ordinal_encoder.fit_transform(features[['Sex']])\n",
    "\n",
    "features.loc[:, 'Sex'] = encoded_sex\n",
    "\n",
    "# Testing features:\n",
    "encoded_sex_test = ordinal_encoder.fit_transform(test_features[['Sex']])\n",
    "test_features.loc[:, 'Sex'] = encoded_sex_test\n"
   ]
  },
  {
   "cell_type": "markdown",
   "metadata": {},
   "source": [
    "#### 3.3 Correlation between features"
   ]
  },
  {
   "cell_type": "code",
   "execution_count": 17,
   "metadata": {},
   "outputs": [
    {
     "data": {
      "text/plain": [
       "<Axes: >"
      ]
     },
     "execution_count": 17,
     "metadata": {},
     "output_type": "execute_result"
    },
    {
     "data": {
      "image/png": "[encoded data removed]",
      "text/plain": [
       "<Figure size 640x480 with 2 Axes>"
      ]
     },
     "metadata": {},
     "output_type": "display_data"
    }
   ],
   "source": [
    "seaborn.heatmap(features.corr())"
   ]
  },
  {
   "cell_type": "markdown",
   "metadata": {},
   "source": [
    "Ticket Class and Ticket Fare are negative correlated, as imagined (first class passengers paid a higher fare than others)"
   ]
  },
  {
   "cell_type": "markdown",
   "metadata": {},
   "source": [
    "#### 3.4 Normalizing the data"
   ]
  },
  {
   "cell_type": "markdown",
   "metadata": {},
   "source": [
    "Computing the z score of each feature, ensuring mean of 0 and variance of 1."
   ]
  },
  {
   "cell_type": "code",
   "execution_count": 18,
   "metadata": {},
   "outputs": [],
   "source": [
    "standard_scaler = sklearn.preprocessing.StandardScaler()\n",
    "\n",
    "# Training Data\n",
    "features_normed = pandas.DataFrame(standard_scaler.fit_transform(features), columns = features.columns).values\n",
    "\n",
    "# Testing Data\n",
    "test_features_normed = pandas.DataFrame(standard_scaler.fit_transform(test_features), columns = test_features.columns).values"
   ]
  },
  {
   "cell_type": "markdown",
   "metadata": {},
   "source": [
    "#### 3.5 Generating the Model"
   ]
  },
  {
   "cell_type": "code",
   "execution_count": 19,
   "metadata": {},
   "outputs": [],
   "source": [
    "tmc  = sklearn.ensemble.RandomForestClassifier()\n",
    "model1 = tmc.fit(features_normed, target)"
   ]
  },
  {
   "cell_type": "markdown",
   "metadata": {},
   "source": [
    "#### 3.6 Making the prediction"
   ]
  },
  {
   "cell_type": "code",
   "execution_count": 20,
   "metadata": {},
   "outputs": [],
   "source": [
    "prediction = model1.predict(test_features_normed)"
   ]
  },
  {
   "cell_type": "markdown",
   "metadata": {},
   "source": [
    "#### 3.7 Formating and exporting CSV file "
   ]
  },
  {
   "cell_type": "code",
   "execution_count": 24,
   "metadata": {},
   "outputs": [],
   "source": [
    "# Adding Passenger identification and survivors prediction \n",
    "titanic_prediction = pandas.DataFrame({\"PassengerId\": test[\"PassengerId\"], \"Survived\": prediction})   "
   ]
  },
  {
   "cell_type": "code",
   "execution_count": 26,
   "metadata": {},
   "outputs": [],
   "source": [
    "# Exporting CSV\n",
    "titanic_prediction.to_csv('titanic_random_florest_prediction.csv', index=False, sep=',')"
   ]
  },
  {
   "cell_type": "markdown",
   "metadata": {},
   "source": [
    "### 3. Random Florest Model"
   ]
  },
  {
   "cell_type": "markdown",
   "metadata": {},
   "source": [
    "#### 3.1 Step-by-Step Function"
   ]
  },
  {
   "cell_type": "markdown",
   "metadata": {},
   "source": [
    "#### 3.2 Training data"
   ]
  },
  {
   "cell_type": "markdown",
   "metadata": {},
   "source": [
    "##### 3.2.1 Deleting Rows with missing values"
   ]
  },
  {
   "cell_type": "markdown",
   "metadata": {},
   "source": [
    "##### 3.2.2 Replacing missing values with the Mean"
   ]
  },
  {
   "cell_type": "markdown",
   "metadata": {},
   "source": [
    "##### 3.2.3 Replacing missing values with the Median"
   ]
  },
  {
   "cell_type": "markdown",
   "metadata": {},
   "source": [
    "##### 3.2.4 Assigning an unique category to missing values"
   ]
  },
  {
   "cell_type": "markdown",
   "metadata": {},
   "source": [
    "##### 3.2.5 Using multiple imputation to replace missing values"
   ]
  },
  {
   "cell_type": "markdown",
   "metadata": {},
   "source": [
    "#### 3.3 Predicting the outcome"
   ]
  }
 ],
 "metadata": {
  "kernelspec": {
   "display_name": "base",
   "language": "python",
   "name": "python3"
  },
  "language_info": {
   "codemirror_mode": {
    "name": "ipython",
    "version": 3
   },
   "file_extension": ".py",
   "mimetype": "text/x-python",
   "name": "python",
   "nbconvert_exporter": "python",
   "pygments_lexer": "ipython3",
   "version": "3.10.9"
  },
  "orig_nbformat": 4
 },
 "nbformat": 4,
 "nbformat_minor": 2
}
